{
 "cells": [
  {
   "cell_type": "code",
   "execution_count": 14,
   "metadata": {},
   "outputs": [
    {
     "name": "stdout",
     "output_type": "stream",
     "text": [
      "61.111111111111114\n"
     ]
    }
   ],
   "source": [
    "from transformers import AutoTokenizer\n",
    "from collections import defaultdict\n",
    "\n",
    "def extract_ngrams(tokens, n=11):\n",
    "    ngrams = defaultdict(list)\n",
    "    for i in range(len(tokens) - n + 1):\n",
    "        ngram = tuple(tokens[i:i+n])\n",
    "        ngrams[ngram].append(i)\n",
    "    return ngrams\n",
    "\n",
    "def contamination_percentage(train_dataset, test_sample, test_id):\n",
    "    id2position = defaultdict(list)\n",
    "    tokenizer = AutoTokenizer.from_pretrained(\"gpt2\", use_fast=True)\n",
    "    \n",
    "    test = tokenizer(test_sample)\n",
    "\n",
    "    train_ngrams = extract_ngrams(train_tokens)\n",
    "    eval_ngrams = extract_ngrams(eval_tokens)\n",
    "    overlapping_ngrams = train_ngrams.intersection(eval_ngrams)\n",
    "    contaminated_tokens = list(token for ngram in overlapping_ngrams for token in ngram)\n",
    "\n",
    "    return (len(contaminated_tokens) / len(eval_tokens)) * 100\n",
    "\n",
    "train_tokens = \"This is a token token token token token token token token token token token token token token token token token token token\"\n",
    "eval_tokens = \"token token token token token this is token token token token token token token token token token token\"\n",
    "print(contamination_percentage(train_tokens, eval_tokens))"
   ]
  },
  {
   "cell_type": "code",
   "execution_count": null,
   "metadata": {},
   "outputs": [],
   "source": []
  }
 ],
 "metadata": {
  "kernelspec": {
   "display_name": "llm",
   "language": "python",
   "name": "python3"
  },
  "language_info": {
   "codemirror_mode": {
    "name": "ipython",
    "version": 3
   },
   "file_extension": ".py",
   "mimetype": "text/x-python",
   "name": "python",
   "nbconvert_exporter": "python",
   "pygments_lexer": "ipython3",
   "version": "3.11.4"
  },
  "orig_nbformat": 4,
  "vscode": {
   "interpreter": {
    "hash": "8644dd181f535115d7ab48d942e03da8408d6a588f975d482130105a68652a58"
   }
  }
 },
 "nbformat": 4,
 "nbformat_minor": 2
}
